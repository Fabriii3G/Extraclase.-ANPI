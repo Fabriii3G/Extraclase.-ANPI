{
 "cells": [
  {
   "cell_type": "markdown",
   "id": "797980a4-b012-403e-aaf9-afd55b7eb50e",
   "metadata": {
    "kernel": "SoS"
   },
   "source": [
    "# Ejercicios Extraclase - Avance 1\n",
    "\n",
    "- **Curso:** C1111: Análisis numérico para la ingeniería\n",
    "- **Estudiante 1:** Fabricio Isaac González Cerdas\n",
    "- **Estudiante 2:** Jian Yong Zheng Wu"
   ]
  },
  {
   "cell_type": "markdown",
   "id": "4a1e3072-8713-4c4e-b41e-08358a7dbfe8",
   "metadata": {
    "kernel": "Octave"
   },
   "source": [
    "**Pregunta 1:**\n",
    "Durante las lecciones del 18, 20, 25 y 27 de julio, se proporcionó una breve explicación sobre el uso de GNU Octave con el paquete Symbolic y Python con las librerías Numpy, Sympy y Matplotlib, con el objetivo de emplearlos en este curso. En esta pregunta, deberán copiar y pegar el código visto en clase en el cuaderno extraclase bloque1.ipynb, tanto el código de GNU Octave como el de Python. Para ello, utilicen el sistema SoS, que permite ejecutar múltiples lenguajes de programación en los cuadernos de Jupyter.\n",
    "decorame este para md\n"
   ]
  },
  {
   "cell_type": "markdown",
   "id": "75d0fa08-f645-4376-9123-ec06eb6e2204",
   "metadata": {
    "kernel": "SoS"
   },
   "source": [
    "Codigo Octave "
   ]
  },
  {
   "cell_type": "code",
   "execution_count": 1,
   "id": "4ffdbc11-7b00-4a91-8b50-1e9331b3d9f8",
   "metadata": {
    "kernel": "Octave",
    "scrolled": true
   },
   "outputs": [
    {
     "name": "stdout",
     "output_type": "stream",
     "text": [
      "warning: using the fltk graphics toolkit is discouraged\n",
      "\n",
      "The FLTK graphics toolkit is not actively maintained and has a number\n",
      "of limitations that are unlikely to be fixed.\n",
      "The qt toolkit is recommended instead.\n",
      "\n",
      "El numero es menor a 15\n",
      "nFactorial = 5040\n"
     ]
    }
   ],
   "source": [
    "%Primer script en Octave\n",
    "\n",
    "%clc;    %Limpiar la ventana de comandos\n",
    "%clear;  %Limpiar las variables del sistema\n",
    "%close all %Cerrar todas las ventanas de graficos\n",
    "\n",
    "clc; clear; close all;\n",
    "\n",
    "A=rand(10,15); %Matriz aleatoria de 10x15\n",
    "B=rand(15,15); %Matriz aleatoria de 10x10\n",
    "C=A*B;\n",
    "\n",
    "t=10;\n",
    "\n",
    "if t<15\n",
    "  disp('El numero es menor a 15')\n",
    "else\n",
    "  disp('El numero es mayor o igual a 15')\n",
    "end\n",
    "\n",
    "vect=[1 2 3 4 5 6 7 8 9 10];\n",
    "\n",
    "vect_trans=vect.'; %Calcula la transpuesta\n",
    "\n",
    "vec1=1:100; %Vector de numeros que inicia\n",
    "            %en 1 y llega hasta 100\n",
    "            %con saltos de 1\n",
    "\n",
    "vec2=0:5:100; %Vector de numeros que inicia\n",
    "            %en 0 y llega hasta 100\n",
    "            %con saltos de 5\n",
    "\n",
    "vec3=[];\n",
    "for k=1:10\n",
    "  vec3=[vec3 2^k];\n",
    "end\n",
    "\n",
    "\n",
    "n = 1;\n",
    "nFactorial = 1;\n",
    "while nFactorial < 1000\n",
    "  n = n + 1;\n",
    "  nFactorial = nFactorial * n;\n",
    "end\n",
    "nFactorial"
   ]
  },
  {
   "cell_type": "markdown",
   "id": "5eb648fc-9553-4733-97d4-fd5d171f3e1e",
   "metadata": {
    "kernel": "Octave"
   },
   "source": [
    "Codigo Python"
   ]
  },
  {
   "cell_type": "code",
   "execution_count": 2,
   "id": "5b3bc9f6-4b99-4c84-9bd1-f1acc66512d6",
   "metadata": {
    "kernel": "Python 3 (ipykernel)",
    "scrolled": true
   },
   "outputs": [
    {
     "name": "stdout",
     "output_type": "stream",
     "text": [
      "El numero es menor a 15\n",
      "[[ 1]\n",
      " [ 2]\n",
      " [ 3]\n",
      " [ 4]\n",
      " [ 5]\n",
      " [ 6]\n",
      " [ 7]\n",
      " [ 8]\n",
      " [ 9]\n",
      " [10]]\n",
      "[  0.   2.   4.   8.  16.  32.  64. 128. 256. 512.]\n",
      "5040\n"
     ]
    }
   ],
   "source": [
    "import numpy as np\n",
    "\n",
    "\n",
    "# Generar matrices aleatorias\n",
    "A = np.random.rand(10, 15)\n",
    "B = np.random.rand(15, 15)\n",
    "C = np.dot(A, B)  # Multiplicación de matrices\n",
    "\n",
    "# Condicional\n",
    "t = 10\n",
    "if t < 15:\n",
    "    print('El numero es menor a 15')\n",
    "else:\n",
    "    print('El numero es mayor o igual a 15')\n",
    "\n",
    "# Definir vectores\n",
    "vect = np.array([1, 2, 3, 4, 5, 6, 7, 8, 9, 10])\n",
    "vect_trans = np.expand_dims(vect, axis=1)  # Calcular la transpuesta\n",
    "print(vect_trans)\n",
    "\n",
    "\n",
    "vec1 = np.arange(1, 101)  # Vector de 1 a 100 con paso de 1\n",
    "vec2 = np.arange(0, 101, 5)  # Vector de 0 a 100 con paso de 5\n",
    "\n",
    "# Generar vec3 con potencias de 2\n",
    "vec3 = np.array([2**k for k in range(1, 11)])\n",
    "\n",
    "vec4=np.zeros(10)\n",
    "\n",
    "for k in range(1, 10):\n",
    "    vec4[k]=2**k\n",
    "\n",
    "print(vec4)\n",
    "\n",
    "\n",
    "# Calcular el factorial de n mientras sea menor que 1000\n",
    "n = 1\n",
    "nFactorial = 1\n",
    "while nFactorial < 1000:\n",
    "    n += 1\n",
    "    nFactorial *= n\n",
    "\n",
    "print(nFactorial)"
   ]
  },
  {
   "cell_type": "markdown",
   "id": "ffa14cbd-d58b-485d-8e45-257b1c9532c8",
   "metadata": {
    "kernel": "Python 3 (ipykernel)"
   },
   "source": [
    "Codigo Octave"
   ]
  },
  {
   "cell_type": "code",
   "execution_count": 3,
   "id": "f486bc68-ec57-4f08-9850-1c4e9d372e20",
   "metadata": {
    "kernel": "Octave"
   },
   "outputs": [],
   "source": [
    "function d = discriminante(a, b, c)\n",
    "    d = b^2 - 4*a*c;\n",
    "end\n",
    "\n",
    "function x = cuad(a, b, c)\n",
    "    disc = discriminante(a, b, c);\n",
    "    x1 = (-b + sqrt(disc)) / (2*a);\n",
    "    x2 = (-b - sqrt(disc)) / (2*a);\n",
    "    x = [x1 x2];\n",
    "end\n"
   ]
  },
  {
   "cell_type": "code",
   "execution_count": 4,
   "id": "88deea7f-6a93-4ee1-900a-e4b925d81cce",
   "metadata": {
    "kernel": "Octave",
    "scrolled": true
   },
   "outputs": [
    {
     "name": "stdout",
     "output_type": "stream",
     "text": [
      "La solucion es 2 y -3\n"
     ]
    }
   ],
   "source": [
    "clc; clear;\n",
    "a = 1; b = 1; c = -6;\n",
    "x = cuad(a, b, c);\n",
    "disp(['La solucion es ', num2str(x(1)), ' y ' , num2str(x(2))])"
   ]
  },
  {
   "cell_type": "markdown",
   "id": "4802f10c-a95a-43e3-9e31-68cdaae928c7",
   "metadata": {
    "kernel": "Octave"
   },
   "source": [
    "Codigo Python"
   ]
  },
  {
   "cell_type": "code",
   "execution_count": 5,
   "id": "afe81cfb-89ed-4d66-8dc7-c94f7ff9f8bf",
   "metadata": {
    "kernel": "Python 3 (ipykernel)",
    "scrolled": true
   },
   "outputs": [
    {
     "name": "stdout",
     "output_type": "stream",
     "text": [
      "La solución es 2.0 y -3.0\n"
     ]
    }
   ],
   "source": [
    "import numpy as np\n",
    "\n",
    "def ejemplo_cuadratica():\n",
    "    \"\"\"\n",
    "    Función de ejemplo numérico que ejecuta un caso específico.\n",
    "    \"\"\"\n",
    "    a, b, c = 1, 1, -6\n",
    "    x = cuad(a, b, c)\n",
    "    print(f\"La solución es {x[0]} y {x[1]}\")\n",
    "\n",
    "def cuad(a, b, c):\n",
    "    \"\"\"\n",
    "    Encuentra la solución de la ecuación ax^2 + bx + c = 0.\n",
    "    Retorna un vector con las soluciones.\n",
    "    \"\"\"\n",
    "    disc = discriminante(a, b, c)\n",
    "    x1 = (-b + np.sqrt(disc)) / (2 * a)\n",
    "    x2 = (-b - np.sqrt(disc)) / (2 * a)\n",
    "    return [x1, x2]\n",
    "\n",
    "def discriminante(a, b, c):\n",
    "    \"\"\"\n",
    "    Calcula el discriminante de la ecuación cuadrática.\n",
    "    \"\"\"\n",
    "    return b**2 - 4 * a * c\n",
    "\n",
    "if __name__ == \"__main__\":\n",
    "    ejemplo_cuadratica()"
   ]
  },
  {
   "cell_type": "markdown",
   "id": "ec07a8d3-4ade-48c9-93ba-95e41537a588",
   "metadata": {
    "kernel": "Python 3 (ipykernel)"
   },
   "source": [
    "Codigo Octave"
   ]
  },
  {
   "cell_type": "code",
   "execution_count": 6,
   "id": "41517283-a669-4324-a872-1177d8d7e25d",
   "metadata": {
    "kernel": "Octave"
   },
   "outputs": [],
   "source": [
    "function x=cuadratica(a,b,c)\n",
    "  %Encuentra la solucion de la ecuacion\n",
    "  %ax^2+bx+c=0\n",
    "  %x es un vector que contiene las soluciones\n",
    "\n",
    "  disc=discriminante(a,b,c);\n",
    "  x1=(-b+sqrt(disc))/(2*a);\n",
    "  x2=(-b-sqrt(disc))/(2*a);\n",
    "  x=[x1 x2];\n",
    "end\n",
    "\n",
    "function d=discriminante(a,b,c)\n",
    "  d=b^2-4*a*c;\n",
    "end\n"
   ]
  },
  {
   "cell_type": "code",
   "execution_count": 7,
   "id": "962f321b-3956-4979-b979-0f4a65bc6272",
   "metadata": {
    "kernel": "Octave",
    "scrolled": true
   },
   "outputs": [
    {
     "name": "stdout",
     "output_type": "stream",
     "text": [
      "c = 1\n",
      "x =\n",
      "\n",
      "  -1  -1\n",
      "\n"
     ]
    }
   ],
   "source": [
    "a=1; b=2; c=1\n",
    "x=cuadratica(a,b,c)"
   ]
  },
  {
   "cell_type": "markdown",
   "id": "96255631-d4b1-42a0-accc-acf521965155",
   "metadata": {
    "kernel": "Octave"
   },
   "source": [
    "Codigo Python"
   ]
  },
  {
   "cell_type": "code",
   "execution_count": 8,
   "id": "9a4c7ac5-ece8-4259-bb2c-7070330e8922",
   "metadata": {
    "kernel": "Python 3 (ipykernel)",
    "scrolled": true
   },
   "outputs": [
    {
     "name": "stdout",
     "output_type": "stream",
     "text": [
      "[-1.0, -1.0]\n"
     ]
    }
   ],
   "source": [
    "import math\n",
    "\n",
    "def discriminante(a, b, c):\n",
    "    return b**2 - 4*a*c\n",
    "\n",
    "def cuadratica(a, b, c):\n",
    "    # Encuentra la solución de la ecuación ax^2 + bx + c = 0\n",
    "    # Devuelve una lista con las soluciones\n",
    "    disc = discriminante(a, b, c)\n",
    "    x1 = (-b + math.sqrt(disc)) / (2 * a)\n",
    "    x2 = (-b - math.sqrt(disc)) / (2 * a)\n",
    "    return [x1, x2]\n",
    "\n",
    "print(cuadratica(1,2,1))"
   ]
  },
  {
   "cell_type": "markdown",
   "id": "b6ff2bb9-8785-44c6-8e1f-8b9d21503722",
   "metadata": {
    "kernel": "Octave"
   },
   "source": [
    "Codigo Octave"
   ]
  },
  {
   "cell_type": "code",
   "execution_count": 9,
   "id": "ce931ef3-a039-43f6-8071-58a7e59f5437",
   "metadata": {
    "kernel": "Octave",
    "scrolled": true
   },
   "outputs": [
    {
     "name": "stdout",
     "output_type": "stream",
     "text": [
      "xsol = 2.7395\n"
     ]
    }
   ],
   "source": [
    "% Ejemplos de cálculo numérico\n",
    "\n",
    "clc; clear; close all\n",
    "\n",
    "x=sqrt(2); % Raiz cuadrada\n",
    "y=sin(5); % Seno en radianes\n",
    "\n",
    "%format long %Más decimales\n",
    "%format short %Menos decimales\n",
    "\n",
    "% Matrices\n",
    "A=rand(4,4);\n",
    "Ainv=A^-1; %inv(A)\n",
    "C=round(A*Ainv);\n",
    "\n",
    "% Sistemas de Ecuaciones Ax=b\n",
    "A=[5 1 0;\n",
    "   1 5 1;\n",
    "   0 1 5]; %A=[5 1 0;1 5 1;0 1 5]\n",
    "b=[-6;\n",
    "   -7;\n",
    "   -6]; %b=[-6 -7 -6]\n",
    "\n",
    "x=mldivide(A,b); %x=A\\b\n",
    "\n",
    "determinante = det(A);\n",
    "%valores propios\n",
    "[X,V]=eig(A);\n",
    "\n",
    "%Matriz escalonada reducida\n",
    "A=[1 2 3 5; 1 5 4 3; -2 -4 -6 -10];\n",
    "E=rref(A);\n",
    "\n",
    "% Minimo de una función f(x)\n",
    "% necesitamos saber un valor\n",
    "% x0 cercano al minimo\n",
    "\n",
    "%Definir una funcion numerica en Octave\n",
    "fun=@(x) exp(x)-2*x- 10;\n",
    "%Definir x0\n",
    "x0=3;\n",
    "xsol=fminsearch(fun,x0);\n",
    "\n",
    "% Solucion de la ecuacion f(x)=0\n",
    "% necesitamos saber un valor\n",
    "% x0 cercano al cero\n",
    "\n",
    "%Definir una funcion numerica en Octave\n",
    "fun=@(x) exp(x)-2*x -10;\n",
    "%Definir x0\n",
    "x0=3;\n",
    "xsol=fzero(fun,x0)\n",
    "\n",
    "%Encontrar el minimo de una funcion\n",
    "%f(x) en un intervalo [a,b]\n",
    "a=-2;\n",
    "b=2;\n",
    "xmin=fminbnd(fun,a,b);\n",
    "\n",
    "%Calcular el maximo\n",
    "a=0;\n",
    "b=3;\n",
    "newfun=@(x) -1*fun(x);\n",
    "fmaxbnd=@(newfun,a,b) fminbnd(newfun,a,b);\n",
    "xmax=fmaxbnd(newfun,a,b);\n"
   ]
  },
  {
   "cell_type": "markdown",
   "id": "33352913-2d2b-4918-8d79-e330c01e2bfa",
   "metadata": {
    "kernel": "Octave"
   },
   "source": [
    "Codigo Python"
   ]
  },
  {
   "cell_type": "code",
   "execution_count": 10,
   "id": "a418af94-e443-4997-b0d0-2fe02c16653b",
   "metadata": {
    "kernel": "Python 3 (ipykernel)",
    "scrolled": true
   },
   "outputs": [
    {
     "name": "stdout",
     "output_type": "stream",
     "text": [
      "[[ 1. -0. -0.  0.]\n",
      " [ 0.  1. -0.  0.]\n",
      " [ 0.  0.  1.  0.]\n",
      " [-0.  0. -0.  1.]]\n",
      "[-1. -1. -1.]\n",
      "[0.69316406]\n",
      "[2.73948193]\n",
      "0.6931472153780879\n",
      "2.9999965472915386\n"
     ]
    }
   ],
   "source": [
    "import numpy as np\n",
    "import scipy.linalg as la\n",
    "import scipy.optimize as opt\n",
    "\n",
    "# Ejemplos de cálculo numérico\n",
    "\n",
    "x = np.sqrt(2)  # Raíz cuadrada\n",
    "y = np.sin(5)  # Seno en radianes\n",
    "\n",
    "# Matrices\n",
    "A = np.random.rand(4, 4)\n",
    "Ainv = np.linalg.inv(A)  # Inversa de A\n",
    "C = np.round(A @ Ainv)  # Multiplicación matricial\n",
    "print(C)\n",
    "\n",
    "# Sistemas de Ecuaciones Ax=b\n",
    "A = np.array([[5, 1, 0],\n",
    "              [1, 5, 1],\n",
    "              [0, 1, 5]])\n",
    "b = np.array([-6, -7, -6])\n",
    "\n",
    "x = np.linalg.solve(A, b)  # Resolver Ax = b\n",
    "print(x)\n",
    "\n",
    "determinante = np.linalg.det(A)  # Determinante\n",
    "\n",
    "# Valores propios\n",
    "V, X = np.linalg.eig(A)\n",
    "\n",
    "# Matriz escalonada reducida\n",
    "A = np.array([[1, 2, 3, 5],\n",
    "              [1, 5, 4, 3],\n",
    "              [-2, -4, -6, -10]], dtype=float)\n",
    "E, _ = la.lu(A, permute_l=True)  # Aproximación a rref con LU\n",
    "\n",
    "# Mínimo de una función f(x)\n",
    "def fun(x):\n",
    "    return np.exp(x) - 2*x - 10\n",
    "\n",
    "x0 = 3\n",
    "xsol = opt.fmin(fun, x0, disp=False)  # Encontrar mínimo\n",
    "print(xsol)\n",
    "\n",
    "# Solución de la ecuación f(x) = 0\n",
    "xsol_root = opt.fsolve(fun, x0)\n",
    "print(xsol_root)\n",
    "\n",
    "# Encontrar el mínimo de una función f(x) en un intervalo [a, b]\n",
    "a, b = -2, 2\n",
    "xmin = opt.fminbound(fun, a, b)\n",
    "print(xmin)\n",
    "\n",
    "# Calcular el máximo\n",
    "def newfun(x):\n",
    "    return -fun(x)\n",
    "\n",
    "a, b = 0, 3\n",
    "xmax = opt.fminbound(newfun, a, b)\n",
    "print(xmax)"
   ]
  },
  {
   "cell_type": "markdown",
   "id": "c40703cf-00b5-4d0e-a6ef-d4b4088cd06e",
   "metadata": {
    "kernel": "Python 3 (ipykernel)"
   },
   "source": [
    "Codigo Octave"
   ]
  },
  {
   "cell_type": "code",
   "execution_count": 11,
   "id": "c535356d-df31-4e8f-addd-6c3d2a85bfd3",
   "metadata": {
    "kernel": "Octave",
    "scrolled": true
   },
   "outputs": [
    {
     "name": "stdout",
     "output_type": "stream",
     "text": [
      "warning: using the gnuplot graphics toolkit is discouraged\n",
      "\n",
      "The gnuplot graphics toolkit is not actively maintained and has a number\n",
      "of limitations that are unlikely to be fixed.  Communication with gnuplot\n",
      "uses a one-directional pipe and limited information is passed back to the\n",
      "Octave interpreter so most changes made interactively in the plot window\n",
      "will not be reflected in the graphics properties managed by Octave.  For\n",
      "example, if the plot window is closed with a mouse click, Octave will not\n",
      "be notified and will not update its internal list of open figure windows.\n",
      "The qt toolkit is recommended instead.\n",
      "Symbolic pkg v3.2.1: Python communication link active, SymPy v1.13.2.\n",
      "fd = (sym)\n",
      "\n",
      "    _______________ /log(x)*cos(x)   sin(x)\\\n",
      "  \\/ log(x)*sin(x) *|------------- + ------|\n",
      "                    \\      2          2*x  /\n",
      "  ------------------------------------------\n",
      "                log(x)*sin(x)               \n",
      "\n",
      "g = (sym) sin(x) + cos(x)\n"
     ]
    },
    {
     "data": {
      "image/png": "[encoded data removed]",
      "text/plain": [
       "<IPython.core.display.Image object>"
      ]
     },
     "metadata": {},
     "output_type": "display_data"
    }
   ],
   "source": [
    "%Ejemplos de calculo simbolico\n",
    "\n",
    "clc; clear; close all\n",
    "\n",
    "pkg load symbolic\n",
    "graphics_toolkit(\"gnuplot\") %Usamos este porque incompatibilidades de Octave en el GUI y de Octave en Jupyter\n",
    "\n",
    "syms x\n",
    "a=sin(x);\n",
    "b=cos(x);\n",
    "y=simplify(a^2+b^2);\n",
    "\n",
    "%Evaluar en symbolic\n",
    "warning('off','all')\n",
    "y=cos(x)+sin(x);\n",
    "z=5;\n",
    "for k=1:10\n",
    "  z=double(subs(y,z)); %Cambia de symbolic a numerico\n",
    "end\n",
    "\n",
    "%Derivar\n",
    "f=sqrt(sin(x)*log(x));\n",
    "fd=diff(f)\n",
    "\n",
    "%Limites\n",
    "g=sin(x)/x;\n",
    "limite=limit(g,0);\n",
    "\n",
    "%graficar\n",
    "g=cos(x)+sin(x)\n",
    "fplot(g, [-5, 5]);  % fplot es equivalente a ezplot en MATLAB, usamos este por la imcompatibilidad tambien\n",
    "grid on;\n",
    "title(\"Gráfico de cos(x) + sin(x)\");\n",
    "xlabel(\"x\");\n",
    "ylabel(\"y\");"
   ]
  },
  {
   "cell_type": "markdown",
   "id": "b99d2fd3-1af3-4fc9-80d3-7762aa20c78d",
   "metadata": {
    "kernel": "Octave"
   },
   "source": [
    "Codigo Python"
   ]
  },
  {
   "cell_type": "code",
   "execution_count": 12,
   "id": "a8274a1e-d536-4e58-a8f7-519aa4891237",
   "metadata": {
    "kernel": "Python 3 (ipykernel)",
    "scrolled": true
   },
   "outputs": [
    {
     "name": "stdout",
     "output_type": "stream",
     "text": [
      "-0.6752620891999122\n",
      "0.1554412353596678\n",
      "1.1427593465126127\n",
      "1.3248680061208318\n",
      "1.2133685556116345\n",
      "1.2866655862632395\n",
      "1.2402288390367395\n",
      "1.270438144390593\n",
      "1.2510929501252432\n",
      "1.2636136655130894\n",
      "sqrt(log(x)*sin(x))*(log(x)*cos(x)/2 + sin(x)/(2*x))/(log(x)*sin(x))\n"
     ]
    },
    {
     "data": {
      "image/png": "[encoded data removed]",
      "text/plain": [
       "<Figure size 640x480 with 1 Axes>"
      ]
     },
     "metadata": {},
     "output_type": "display_data"
    }
   ],
   "source": [
    "import sympy as sp\n",
    "import numpy as np\n",
    "import matplotlib.pyplot as plt\n",
    "\n",
    "# Definir la variable simbólica\n",
    "x = sp.symbols('x')\n",
    "\n",
    "a = sp.sin(x)\n",
    "b = sp.cos(x)\n",
    "y = sp.simplify(a**2 + b**2)\n",
    "\n",
    "# Evaluar en symbolic\n",
    "\n",
    "y = sp.cos(x) + sp.sin(x)\n",
    "z = 5\n",
    "for _ in range(10):\n",
    "    z = float(y.subs(x, z))  # Cambia de simbólico a numérico\n",
    "    print(z)\n",
    "\n",
    "# Derivar\n",
    "f = sp.sqrt(sp.sin(x) * sp.log(x))\n",
    "fd = sp.diff(f, x)\n",
    "print(fd)\n",
    "\n",
    "# Límites\n",
    "g = sp.sin(x) / x\n",
    "limite = sp.limit(g, x, 0)\n",
    "\n",
    "# Graficar\n",
    "g_func = sp.lambdify(x, sp.cos(x) + sp.sin(x), 'numpy')\n",
    "x_vals = np.linspace(-5, 5, 400)\n",
    "y_vals = g_func(x_vals)\n",
    "\n",
    "plt.plot(x_vals, y_vals, label='cos(x) + sin(x)')\n",
    "plt.axhline(0, color='black', linewidth=0.5)\n",
    "plt.axvline(0, color='black', linewidth=0.5)\n",
    "plt.legend()\n",
    "plt.grid()\n",
    "plt.show()"
   ]
  },
  {
   "cell_type": "markdown",
   "id": "70b0819d-7ba8-414c-8384-798b1147c190",
   "metadata": {
    "kernel": "Python 3 (ipykernel)"
   },
   "source": [
    "Codigo Octave"
   ]
  },
  {
   "cell_type": "code",
   "execution_count": 13,
   "id": "342d6fda-b447-4441-96be-a8dfc814090f",
   "metadata": {
    "kernel": "Octave",
    "scrolled": true
   },
   "outputs": [
    {
     "name": "stdout",
     "output_type": "stream",
     "text": [
      "f_text = exp(x)+4*x\n",
      "f_sym = (sym)\n",
      "\n",
      "         x\n",
      "  4*x + e \n",
      "\n",
      "f_num =\n",
      "\n",
      "@(x) exp (x) + 4 * x\n",
      "\n",
      "f_num2 =\n",
      "\n",
      "@(x) 4 * x + exp (x)\n",
      "\n"
     ]
    }
   ],
   "source": [
    "%Ejemplos de funciones numericas usando\n",
    "%simbolico y numerico\n",
    "\n",
    "clc; clear; close all\n",
    "\n",
    "pkg load symbolic\n",
    "\n",
    "syms x\n",
    "\n",
    "f_text='exp(x)+4*x'\n",
    "%Pasar de texto a simbolico\n",
    "f_sym = sym(f_text)\n",
    "%Pasar de texto a numerico\n",
    "f_num=str2func(['@(x)' f_text])\n",
    "%Pasar de simbolico a numerico\n",
    "f_num2=matlabFunction(f_sym)"
   ]
  },
  {
   "cell_type": "markdown",
   "id": "5501aacd-fe08-4415-9473-de81055efa9c",
   "metadata": {
    "kernel": "Octave"
   },
   "source": [
    "Codigo Python"
   ]
  },
  {
   "cell_type": "code",
   "execution_count": 14,
   "id": "21ec8eb4-019a-44f9-b62d-35cd1138f9ae",
   "metadata": {
    "kernel": "Python 3 (ipykernel)",
    "scrolled": true
   },
   "outputs": [
    {
     "name": "stdout",
     "output_type": "stream",
     "text": [
      "Simbólico: 4*x + exp(x)\n",
      "Numérico (desde texto): 6.718281828459045\n",
      "Numérico (desde simbólico): 6.718281828459045\n"
     ]
    }
   ],
   "source": [
    "import sympy as sp\n",
    "import numpy as np\n",
    "\n",
    "# Definir la variable simbólica\n",
    "x = sp.symbols('x')\n",
    "\n",
    "# Definir la función como texto\n",
    "f_text = 'exp(x) + 4*x'\n",
    "\n",
    "# Pasar de texto a simbólico\n",
    "f_sym = sp.sympify(f_text)\n",
    "print(\"Simbólico:\", f_sym)\n",
    "\n",
    "# Pasar de texto a numérico\n",
    "f_num = lambda x: eval(f_text, {\"x\": x, \"exp\": np.exp})\n",
    "print(\"Numérico (desde texto):\", f_num(1))\n",
    "\n",
    "# Pasar de simbólico a numérico\n",
    "f_num2 = sp.lambdify(x, f_sym, modules=['numpy'])\n",
    "print(\"Numérico (desde simbólico):\", f_num2(1))"
   ]
  },
  {
   "cell_type": "markdown",
   "id": "ac23a139-5fb5-4432-8cc6-11a21ac76fc3",
   "metadata": {
    "kernel": "Python 3 (ipykernel)"
   },
   "source": [
    "Codigo Octave"
   ]
  },
  {
   "cell_type": "code",
   "execution_count": 15,
   "id": "f2d87e84-c937-4c40-8f21-9d8e92b8f721",
   "metadata": {
    "kernel": "Octave",
    "scrolled": true
   },
   "outputs": [
    {
     "data": {
      "image/png": "[encoded data removed]",
      "text/plain": [
       "<IPython.core.display.Image object>"
      ]
     },
     "metadata": {},
     "output_type": "display_data"
    }
   ],
   "source": [
    "%Graficas numericas en Octave\n",
    "\n",
    "clc; clear; close all\n",
    "\n",
    "graphics_toolkit(\"gnuplot\"); %Usamos este porque incompatibilidades de Octave en el GUI y de Octave en Jupyter\n",
    "\n",
    "ejex=1:0.001:10; %[1 1.01 1.02 .... 9.98 9.99 10]\n",
    "ejey=cos(ejex);\n",
    "%stem(ejex,ejey) %Graficar pares ordenados\n",
    "\n",
    "plot(ejex,ejey,'r')\n",
    "title('Grafica de f(x)=cos(x)')\n",
    "xlabel('Eje x')\n",
    "ylabel('Eje y')\n",
    "\n",
    "grid on;\n",
    "drawnow;"
   ]
  },
  {
   "cell_type": "markdown",
   "id": "1bffce1f-9f8c-45f2-97df-e1a8bcebc2cc",
   "metadata": {
    "kernel": "SoS"
   },
   "source": [
    "**Pregunta 2:**"
   ]
  },
  {
   "cell_type": "code",
   "execution_count": 2,
   "id": "555bc968-8fd4-4d40-99b8-74d7236e471e",
   "metadata": {
    "kernel": "Python 3 (ipykernel)",
    "scrolled": true
   },
   "outputs": [
    {
     "name": "stdout",
     "output_type": "stream",
     "text": [
      "Raíz aproximada: 1.4044916482176633\n"
     ]
    }
   ],
   "source": [
    "import numpy as np\n",
    "\n",
    "def f(x): #Se define la funcion a encontrarle un 0\n",
    "    return np.sin(x)**2 - x**2 + 1\n",
    "\n",
    "def metodo_biseccion_mod(a, b, n, tol):\n",
    "    h = (b - a) / n\n",
    "    c = [a + k * h for k in range(n + 1)]  # Calcular los puntos c_k\n",
    "\n",
    "    # Encontrar el subintervalo donde está la raíz\n",
    "    for k in range(n):\n",
    "        if f(c[k]) * f(c[k+1]) < 0:\n",
    "            a, b = c[k], c[k+1]  # Seleccionar nuevo intervalo\n",
    "            break\n",
    "    else:\n",
    "        raise ValueError(\"No se encontró una raíz en el intervalo con los subintervalos dados.\")\n",
    "\n",
    "    # Aplicar el método de bisección\n",
    "    while True:\n",
    "        x_mid = (a + b) / 2\n",
    "        if abs(f(x_mid)) < tol:\n",
    "            return x_mid  # Se encontró la raíz\n",
    "        \n",
    "        if f(a) * f(x_mid) < 0:\n",
    "            b = x_mid\n",
    "        else:\n",
    "            a = x_mid\n",
    "\n",
    "# Probar la función\n",
    "raiz = metodo_biseccion_mod(0, 2, 10, 1e-10)\n",
    "print(f\"Raíz aproximada: {raiz}\")\n"
   ]
  },
  {
   "cell_type": "markdown",
   "id": "4ebcd90e-5e6c-482b-aa20-56d6e3d2148f",
   "metadata": {
    "kernel": "SoS"
   },
   "source": [
    "**Pregunta 3:**"
   ]
  },
  {
   "cell_type": "code",
   "execution_count": 16,
   "id": "b8e7e18c-10f9-41fb-b46f-b940dd0ec405",
   "metadata": {
    "kernel": "Octave"
   },
   "outputs": [],
   "source": [
    "function [xk, k, er] = newton_raphson(f, x0, tol, iterMax)\n",
    "  pkg load symbolic\n",
    "\n",
    "  xk = x0;\n",
    "\n",
    "  fs = sym(f); % función simbólica\n",
    "  fsp = diff(fs); % derivada simbólica\n",
    "\n",
    "  fn = matlabFunction(fs); % función numérica\n",
    "  fnp = matlabFunction(fsp); % derivada numérica\n",
    "  \n",
    "  for k = 1:iterMax\n",
    "    if fnp(xk) == 0\n",
    "      error('Derivada es cero. Método no puede continuar.');\n",
    "    end\n",
    "    xk = xk - fn(xk) / fnp(xk);\n",
    "    er = abs(fn(xk));\n",
    "    if er < tol\n",
    "      break\n",
    "    end\n",
    "  end\n",
    "end"
   ]
  },
  {
   "cell_type": "code",
   "execution_count": 17,
   "id": "301b869f-0d5b-4fb4-82d8-c2e4cd9c96f1",
   "metadata": {
    "kernel": "Octave"
   },
   "outputs": [],
   "source": [
    "function ejemplo_newton_raphson()\n",
    "  f = 'x*exp(-x)-5-(cos(x)/x)';\n",
    "  x0 = 1;\n",
    "  tol = 1e-15;\n",
    "  iterMax = 20000;\n",
    "  \n",
    "  tic\n",
    "  [xk, k, er] = newton_raphson(f, x0, tol, iterMax);\n",
    "  t1 = toc;\n",
    "  \n",
    "  % Mostrar resultados\n",
    "  disp(['Raíz aproximada: ', num2str(xk)]);\n",
    "  disp(['Número de iteraciones: ', num2str(k)]);\n",
    "  disp(['Error final: ', num2str(er)]);\n",
    "  disp(['Tiempo de ejecución: ', num2str(t1), ' segundos']);\n",
    "    disp(['Valor inicial utilizado: ',num2str(x0)]);\n",
    "end"
   ]
  },
  {
   "cell_type": "code",
   "execution_count": 20,
   "id": "eb3a3484-b192-4d66-a2a1-8a5b2e98be1c",
   "metadata": {
    "kernel": "Octave",
    "scrolled": true
   },
   "outputs": [
    {
     "name": "stdout",
     "output_type": "stream",
     "text": [
      "Raíz aproximada: -0.18795\n",
      "Número de iteraciones: 1200\n",
      "Error final: 8.8818e-16\n",
      "Tiempo de ejecución: 0.24274 segundos\n",
      "Valor inicial utilizado: 1\n"
     ]
    }
   ],
   "source": [
    "ejemplo_newton_raphson()"
   ]
  },
  {
   "cell_type": "code",
   "execution_count": 3,
   "id": "2d95637a-1d6f-456e-a17a-a4dce0a52817",
   "metadata": {
    "kernel": "Octave"
   },
   "outputs": [],
   "source": [
    "function [xk, k, er] = newton_raphson_mod(f, x0, tol, iterMax)\n",
    "  pkg load symbolic\n",
    "\n",
    "  xk = x0;\n",
    "\n",
    "  fs = sym(f); % Función f de manera simbólica\n",
    "  fsp = diff(fs); % Derivada de f de manera simbólica\n",
    "  fsp2 = diff(fs, 2); % Segunda derivada de f de manera simbólica\n",
    "\n",
    "  fn = matlabFunction(fs); % Función f de manera numérica\n",
    "  fnp = matlabFunction(fsp); % Función derivada de f de manera numérica\n",
    "  fnp2 = matlabFunction(fsp2); % Función segunda derivada de f de manera numérica\n",
    "\n",
    "  for k = 1:iterMax\n",
    "    % Calcular el numerador y denominador\n",
    "    num = fn(xk) * fnp(xk);\n",
    "    den = (fnp(xk))^2 - fn(xk) * fnp2(xk);\n",
    "\n",
    "    % Evitar la división por cero\n",
    "    if abs(den) < 1e-12\n",
    "      error('Denominador demasiado pequeño, método no puede continuar.');\n",
    "    end\n",
    "    \n",
    "    % Actualizar xk usando el método de Newton-Raphson modificado\n",
    "    xk = xk - num / den;\n",
    "\n",
    "    % Calcular el error\n",
    "    er = abs(fn(xk));\n",
    "\n",
    "    % Comprobar si el error es menor que la tolerancia\n",
    "    if er < tol\n",
    "      break\n",
    "    end\n",
    "  end\n",
    "endfunction"
   ]
  },
  {
   "cell_type": "code",
   "execution_count": 4,
   "id": "386d5531-db09-402f-b96f-9f80a1783d8d",
   "metadata": {
    "kernel": "Octave"
   },
   "outputs": [],
   "source": [
    "function ejemplo_2_newton_raphson()\n",
    "\n",
    "  clc; clear\n",
    "\n",
    "  f='x*exp(-x)-5-(cos(x)/x)';\n",
    "  x0=1;\n",
    "  tol=1e-12;\n",
    "  iterMax=20000;\n",
    "  tic\n",
    "  [xk,k,er]=newton_raphson_mod(f,x0,tol,iterMax);\n",
    "  t1=toc;\n",
    "% Mostrar resultados\n",
    "  disp(['Raíz aproximada: ', num2str(xk)]);\n",
    "  disp(['Número de iteraciones: ', num2str(k)]);\n",
    "  disp(['Error final: ', num2str(er)]);\n",
    "  disp(['Tiempo de ejecución: ', num2str(t1), ' segundos']);\n",
    "    disp(['Valor inicial utilizado: ',num2str(x0)]);\n",
    "end"
   ]
  },
  {
   "cell_type": "code",
   "execution_count": 6,
   "id": "79af339e-325a-49a4-8036-359c77f015f7",
   "metadata": {
    "kernel": "Octave",
    "scrolled": true
   },
   "outputs": [
    {
     "name": "stdout",
     "output_type": "stream",
     "text": [
      "Raíz aproximada: NaN\n",
      "Número de iteraciones: 20000\n",
      "Error final: NaN\n",
      "Tiempo de ejecución: 3.0054 segundos\n",
      "Valor inicial utilizado: 1\n"
     ]
    }
   ],
   "source": [
    "ejemplo_2_newton_raphson()"
   ]
  },
  {
   "cell_type": "code",
   "execution_count": 26,
   "id": "f1a62a14-7b05-42a8-9923-a098d0a16d07",
   "metadata": {
    "kernel": "Octave"
   },
   "outputs": [],
   "source": [
    "function [xk, k, er] = steffensen(f, x0, tol, iterMax)\n",
    "  xk = x0;\n",
    "\n",
    "  for k = 1:iterMax\n",
    "    % Evitar la división por cero\n",
    "    denominator = f(xk + f(xk)) - f(xk);\n",
    "    if denominator == 0\n",
    "      error(\"División por cero detectada.\");\n",
    "    end\n",
    "\n",
    "    % Actualización de Steffensen\n",
    "    xk = xk - f(xk)^2 / denominator;\n",
    "\n",
    "    % Calcular el error\n",
    "    er = abs(f(xk));\n",
    "\n",
    "    % Comprobar si el error es menor que la tolerancia\n",
    "    if er < tol\n",
    "      break\n",
    "    end\n",
    "  end\n",
    "endfunction\n"
   ]
  },
  {
   "cell_type": "code",
   "execution_count": 40,
   "id": "8b103be2-896a-4c47-acea-a9d0ec93f524",
   "metadata": {
    "kernel": "Octave"
   },
   "outputs": [],
   "source": [
    "function ejemplo_steffensen()\n",
    "  f = @(x) x*exp(-x) - 5 - (cos(x)/x);  % Función anónima\n",
    "  x0 = 1;\n",
    "  tol = 1e-10;\n",
    "  iterMax = 20000;\n",
    "  \n",
    "  tic\n",
    "  [xk, k, er] = steffensen(f, x0, tol, iterMax);\n",
    "  t1 = toc;\n",
    "  \n",
    "  % Mostrar resultados\n",
    "  disp(['Raíz aproximada: ', num2str(xk)]);\n",
    "  disp(['Número de iteraciones: ', num2str(k)]);\n",
    "  disp(['Error final: ', num2str(er)]);\n",
    "  disp(['Tiempo de ejecución: ', num2str(t1), ' segundos']);\n",
    "  disp(['Valor inicial utilizado: ', num2str(x0)]);\n",
    "end\n"
   ]
  },
  {
   "cell_type": "code",
   "execution_count": 41,
   "id": "de9ba0d6-5442-4583-932f-03feb041d060",
   "metadata": {
    "kernel": "Octave",
    "scrolled": true
   },
   "outputs": [
    {
     "name": "stdout",
     "output_type": "stream",
     "text": [
      "Raíz aproximada: NaN\n",
      "Número de iteraciones: 20000\n",
      "Error final: NaN\n",
      "Tiempo de ejecución: 1.7515 segundos\n",
      "Valor inicial utilizado: 1\n"
     ]
    }
   ],
   "source": [
    "ejemplo_steffensen()"
   ]
  },
  {
   "cell_type": "code",
   "execution_count": 50,
   "id": "2a6f945d-9c14-4877-a6d4-07b5b1bb8c8c",
   "metadata": {
    "kernel": "Octave"
   },
   "outputs": [],
   "source": [
    "function [xk, k, er] = secante(f, x0, x1, tol, iterMax)\n",
    "  % f: Función anónima\n",
    "  % x0, x1: Aproximaciones iniciales\n",
    "  % tol: Tolerancia\n",
    "  % iterMax: Número máximo de iteraciones\n",
    "\n",
    "  xk = x1;  % Valor inicial de xk es el segundo valor (x1)\n",
    "  for k = 1:iterMax\n",
    "    % Evaluamos la función en x0, x1 y xk\n",
    "    f_x0 = f(x0);\n",
    "    f_x1 = f(x1);\n",
    "\n",
    "    % Evitar la división por cero\n",
    "    denominator = f_x1 - f_x0;\n",
    "    if denominator == 0\n",
    "      error(\"División por cero detectada en la iteración %d.\", k);\n",
    "    end\n",
    "\n",
    "    % Aplicar la fórmula del método de la secante\n",
    "    xk = x1 - (f_x1 * (x1 - x0)) / denominator;\n",
    "\n",
    "    % Calcular el error\n",
    "    er = abs(f(xk));\n",
    "\n",
    "    % Comprobar si el error es menor que la tolerancia\n",
    "    if er < tol\n",
    "      break;\n",
    "    end\n",
    "\n",
    "    % Actualizar las aproximaciones para la siguiente iteración\n",
    "    x0 = x1;\n",
    "    x1 = xk;\n",
    "  end\n",
    "endfunction\n"
   ]
  },
  {
   "cell_type": "code",
   "execution_count": 61,
   "id": "acb24dfa-2747-4df0-a5fe-7ff2f3205358",
   "metadata": {
    "kernel": "Octave"
   },
   "outputs": [],
   "source": [
    "function ejemplo_secante()\n",
    "  f = @(x) x*exp(-x) - 5 - (cos(x)/x);  % Función original\n",
    "  x0 = 1;  % Aproximación inicial 1\n",
    "  x1 = 2;  % Aproximación inicial 2\n",
    "  tol = 1e-15;\n",
    "  iterMax = 20000;\n",
    "\n",
    "  tic\n",
    "  [xk, k, er] = secante(f, x0, x1, tol, iterMax);\n",
    "  t1 = toc;\n",
    "\n",
    "  % Mostrar resultados\n",
    "  disp(['Raíz aproximada: ', num2str(xk)]);\n",
    "  disp(['Número de iteraciones: ', num2str(k)]);\n",
    "  disp(['Error final: ', num2str(er)]);\n",
    "  disp(['Tiempo de ejecución: ', num2str(t1), ' segundos']);\n",
    "  disp(['Valores iniciales utilizados: ', num2str(x0), ', ', num2str(x1)]);\n",
    "end\n"
   ]
  },
  {
   "cell_type": "code",
   "execution_count": 62,
   "id": "55faa33c-e5e1-40ef-8184-70d69cd9629c",
   "metadata": {
    "kernel": "Octave"
   },
   "outputs": [
    {
     "name": "stdout",
     "output_type": "stream",
     "text": [
      "error: División por cero detectada en la iteración 5.\n",
      "error: called from\n",
      "    secante at line 16 column 7\n",
      "    ejemplo_secante at line 9 column 15\n"
     ]
    }
   ],
   "source": [
    "ejemplo_secante()"
   ]
  },
  {
   "cell_type": "code",
   "execution_count": null,
   "id": "77301560-ab9f-4554-bc87-2fda09028887",
   "metadata": {
    "kernel": "Octave"
   },
   "outputs": [],
   "source": []
  }
 ],
 "metadata": {
  "kernelspec": {
   "display_name": "SoS",
   "language": "sos",
   "name": "sos"
  },
  "language_info": {
   "codemirror_mode": "sos",
   "file_extension": ".sos",
   "mimetype": "text/x-sos",
   "name": "sos",
   "nbconvert_exporter": "sos_notebook.converter.SoS_Exporter",
   "pygments_lexer": "sos"
  },
  "sos": {
   "kernels": [
    [
     "Octave",
     "octave",
     "octave",
     "",
     ""
    ],
    [
     "Python 3 (ipykernel)",
     "python3",
     "python3",
     "",
     {
      "name": "ipython",
      "version": 3
     }
    ]
   ],
   "version": ""
  }
 },
 "nbformat": 4,
 "nbformat_minor": 5
}
