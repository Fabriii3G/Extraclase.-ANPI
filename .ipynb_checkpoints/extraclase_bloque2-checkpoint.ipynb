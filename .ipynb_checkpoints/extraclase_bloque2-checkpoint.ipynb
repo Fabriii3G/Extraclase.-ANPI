{
 "cells": [
  {
   "cell_type": "markdown",
   "id": "797980a4-b012-403e-aaf9-afd55b7eb50e",
   "metadata": {
    "kernel": "SoS"
   },
   "source": [
    "## Ejercicios Extraclase - Avance 2\n",
    "\n",
    "- **Curso:** C1111: Análisis numérico para la ingeniería\n",
    "- **Estudiante 1:** Fabricio Isaac González Cerdas\n",
    "- **Estudiante 2:** Jian Yong Zheng Wu"
   ]
  },
  {
   "cell_type": "markdown",
   "id": "7f57c79f-2bc2-44f8-8f20-b62f113d4c2b",
   "metadata": {
    "kernel": "SoS"
   },
   "source": [
    "**Pregunta 1**"
   ]
  },
  {
   "cell_type": "code",
   "execution_count": 11,
   "id": "655c85e9-5138-4511-a726-e23aa92a23ce",
   "metadata": {
    "kernel": "Python 3 (ipykernel)",
    "scrolled": true
   },
   "outputs": [
    {
     "name": "stdout",
     "output_type": "stream",
     "text": [
      "tf para A1 = 1\n",
      "tf para A2 = 0\n"
     ]
    }
   ],
   "source": [
    "import numpy as np\n",
    "\n",
    "def tieneUnicaFactLU(A):\n",
    "    # Verificar si la matriz es cuadrada\n",
    "    filas, columnas = A.shape\n",
    "    if filas != columnas:\n",
    "        raise ValueError(\"La matriz debe ser cuadrada\")\n",
    "\n",
    "    # Verificar si el rango de A es igual a m \n",
    "    rango = np.linalg.matrix_rank(A)\n",
    "    tf = 1 if rango == filas else 0\n",
    "    return tf\n",
    "\n",
    "#Matriz con factorizacion LU unica\n",
    "A1 = np.array([\n",
    "    [2, 1, 0, 0, 0],\n",
    "    [3, 4, 1, 0, 0],\n",
    "    [1, 2, 3, 1, 0],\n",
    "    [5, 6, 7, 8, 1],\n",
    "    [9, 10, 11, 12, 13]\n",
    "], dtype=float)\n",
    "\n",
    "#Matriz sin factorizacion LU unica\n",
    "A2 = np.array([\n",
    "    [1, 2, 3, 4, 5],\n",
    "    [2, 4, 6, 8, 10],   \n",
    "    [3, 6, 9, 12, 15],  \n",
    "    [0, 0, 0, 0, 0],\n",
    "    [5, 10, 15, 20, 25]\n",
    "], dtype=float)\n",
    "\n",
    "print(\"tf para A1 =\", tieneUnicaFactLU(A1)) \n",
    "print(\"tf para A2 =\", tieneUnicaFactLU(A2))  "
   ]
  },
  {
   "cell_type": "markdown",
   "id": "9fcf8c01-ab74-40c3-a20e-fd513aa619d8",
   "metadata": {
    "kernel": "Python 3 (ipykernel)"
   },
   "source": [
    "**Pregunta 2**"
   ]
  },
  {
   "cell_type": "code",
   "execution_count": 21,
   "id": "b0dffefd-8e03-47ad-aeb8-3eaa7270bbab",
   "metadata": {
    "kernel": "Python 3 (ipykernel)",
    "scrolled": true
   },
   "outputs": [
    {
     "name": "stdout",
     "output_type": "stream",
     "text": [
      "[-2. -2. -2. -2. -2. -2. -2. -2. -2. -2. -2. -2. -2. -2. -2. -2. -2. -2.\n",
      " -2. -2. -2. -2. -2. -2. -2. -2. -2. -2. -2. -2. -2. -2. -2. -2. -2. -2.\n",
      " -2. -2. -2. -2. -2. -2. -2. -2. -2. -2. -2. -2. -2. -2. -2. -2. -2. -2.\n",
      " -2. -2. -2. -2. -2. -2. -2. -2. -2. -2. -2. -2. -2. -2. -2. -2. -2. -2.\n",
      " -2. -2. -2. -2. -2. -2. -2. -2. -2. -2. -2. -2. -2. -2. -2. -2. -2. -2.\n",
      " -2. -2. -2. -2. -2. -2. -2. -2. -2. -2.]\n"
     ]
    }
   ],
   "source": [
    "import numpy as np\n",
    "\n",
    "def thomas(A, b):\n",
    "    A = np.array(A, dtype=float)\n",
    "    b = np.array(b, dtype=float)\n",
    "    n = len(b)\n",
    "\n",
    "    # Inicializar los vectores de la subdiagonal (a), diagonal principal (b_diag) y superdiagonal (c)\n",
    "    a = np.zeros(n)        # subdiagonal (valores debajo de la diagonal principal)\n",
    "    b_diag = np.zeros(n)   # diagonal principal\n",
    "    c = np.zeros(n)        # superdiagonal (valores encima de la diagonal principal)\n",
    "\n",
    "    # Extraer los valores de A en los tres vectores a, b_diag y c\n",
    "    for i in range(n):\n",
    "        b_diag[i] = A[i, i]             # Elemento diagonal\n",
    "        if i > 0:\n",
    "            a[i] = A[i, i - 1]          # Subdiagonal (debajo de la diagonal)\n",
    "        if i < n - 1:\n",
    "            c[i] = A[i, i + 1]          # Superdiagonal (encima de la diagonal)\n",
    "\n",
    "    # Eliminación hacia adelante\n",
    "    for i in range(1, n):\n",
    "        m = a[i] / b_diag[i - 1]        # Factor multiplicador\n",
    "        b_diag[i] = b_diag[i] - m * c[i - 1]  # Actualizar diagonal\n",
    "        b[i] = b[i] - m * b[i - 1]      # Actualizar vector del lado derecho\n",
    "\n",
    "    # Sustitución hacia atrás\n",
    "    x = np.zeros(n)\n",
    "    x[-1] = b[-1] / b_diag[-1]          # Última ecuación\n",
    "\n",
    "    for i in range(n - 2, -1, -1):      \n",
    "        suma = 0\n",
    "        suma += c[i] * x[i + 1]         \n",
    "        x[i] = (b[i] - suma) / b_diag[i]  # Calcular x[i]\n",
    "\n",
    "    return x\n",
    "\n",
    "#Construir la matriz\n",
    "n = 100\n",
    "A = np.zeros((n, n))\n",
    "\n",
    "# Llenar matriz tridiagonal\n",
    "for i in range(n):\n",
    "    A[i, i] = 5\n",
    "    if i > 0:\n",
    "        A[i, i - 1] = 1\n",
    "    if i < n - 1:\n",
    "        A[i, i + 1] = 1\n",
    "\n",
    "# Construir vector d\n",
    "d = np.full(n, -14.0)\n",
    "d[0] = -12.0\n",
    "d[-1] = -12.0\n",
    "\n",
    "# Resolver sistema\n",
    "x = thomas(A, d)\n",
    "\n",
    "print(x)"
   ]
  },
  {
   "cell_type": "markdown",
   "id": "4dcb5320-16ca-4023-9f54-b833215ef98c",
   "metadata": {
    "kernel": "Python 3 (ipykernel)"
   },
   "source": [
    "**Pregunta 3**"
   ]
  },
  {
   "cell_type": "code",
   "execution_count": 4,
   "id": "5bdfd9eb-492f-42f5-978c-922a281965ae",
   "metadata": {
    "kernel": "Python 3 (ipykernel)"
   },
   "outputs": [
    {
     "name": "stdout",
     "output_type": "stream",
     "text": [
      "Matriz Q:\n",
      "[[ 1.01929438e-01  1.75123739e-01  3.20240485e-01  5.95940480e-01\n",
      "  -5.55322557e-02 -4.10397937e-03 -8.54661184e-02  4.52204687e-02\n",
      "  -2.74297310e-01 -6.43081647e-01]\n",
      " [-1.52894157e-01  3.66592361e-01  1.70319615e-01 -3.08513096e-01\n",
      "   2.27738851e-01 -3.27962742e-01 -1.15074797e-01 -1.57326246e-01\n",
      "  -7.03315794e-01  1.61161127e-01]\n",
      " [ 5.09647191e-02 -1.82128689e-01  7.23660316e-01  2.76197902e-01\n",
      "  -8.29480503e-02  1.03017286e-01 -5.70741921e-02  2.27657697e-02\n",
      "   1.16022435e-02  5.85541551e-01]\n",
      " [ 2.03858877e-01  1.70453773e-01 -5.56311393e-01  6.06898147e-01\n",
      "   3.60009509e-02 -5.16330908e-02 -6.05699146e-02 -4.48189286e-02\n",
      "  -1.97515428e-01  4.50474753e-01]\n",
      " [-2.54823596e-01  3.71262328e-01  1.03380045e-01  1.59299726e-01\n",
      "   7.70247978e-01  1.17166108e-01  8.71033837e-02  4.63367398e-02\n",
      "   3.79366117e-01  2.24230830e-02]\n",
      " [ 3.05788315e-01  3.45577513e-01 -1.98046064e-04 -2.10902148e-01\n",
      "  -5.39355337e-02  8.37218739e-01 -1.11722828e-03 -9.01656699e-04\n",
      "  -1.94618904e-01  2.94464857e-02]\n",
      " [-3.56753034e-01  3.75932294e-01  3.64404757e-02  9.16443475e-02\n",
      "  -4.13865229e-01 -2.55636154e-02  7.37012164e-01 -1.21333048e-02\n",
      "   1.99212160e-02  7.75026449e-02]\n",
      " [ 4.07717753e-01  3.40907546e-01  6.67415234e-02 -1.43246770e-01\n",
      "  -7.40146054e-02 -3.01300359e-01 -1.19438309e-02  7.58004953e-01\n",
      "   1.31858303e-01  6.49104478e-02]\n",
      " [-4.58682472e-01  3.80602260e-01 -3.04990938e-02  2.39889688e-02\n",
      "  -3.93786157e-01  4.61252626e-02 -6.49310816e-01  4.72658623e-03\n",
      "   2.48354354e-01  5.23908841e-02]\n",
      " [ 5.09647191e-01  3.36237580e-01  1.33681093e-01 -7.55913909e-02\n",
      "  -9.40936770e-02 -2.66306215e-01 -2.18795600e-03 -6.27524957e-01\n",
      "   3.60142199e-01 -1.87604500e-02]]\n",
      "\n",
      "Matriz R:\n",
      "[[ 19.62141687 -19.36659327  16.81835732 -20.28395822  19.67238159\n",
      "  -20.2329935   16.10485125  -7.89953147  -3.87331865  18.65308721]\n",
      " [  0.           5.56192996  -0.41095704   1.10911702   2.87436431\n",
      "    0.38760721   4.83575019  -2.15518949   9.52673143   1.12312692]\n",
      " [  0.           0.           4.23957208  -4.57625039   9.98310597\n",
      "  -12.86804298  15.83417888 -16.75370675  18.4117484    5.83720968]\n",
      " [  0.           0.           0.           5.60257358  -7.04480663\n",
      "    6.11817341  -3.968197     1.87189581   0.55765035   3.7170945 ]\n",
      " [  0.           0.           0.           0.           9.13475381\n",
      "   -9.14294703   4.84414224 -10.28614792   2.62034531  -0.7954452 ]\n",
      " [  0.           0.           0.           0.           0.\n",
      "    9.37356273 -12.13010214   5.96555359 -11.3716009    1.82122674]\n",
      " [  0.           0.           0.           0.           0.\n",
      "    0.          11.40948667 -14.23882498  -1.63405506  -9.42800513]\n",
      " [  0.           0.           0.           0.           0.\n",
      "    0.           0.          14.7859755  -14.48130299  -3.96878254]\n",
      " [  0.           0.           0.           0.           0.\n",
      "    0.           0.           0.           6.88313513 -14.83057767]\n",
      " [  0.           0.           0.           0.           0.\n",
      "    0.           0.           0.           0.           7.64048204]]\n"
     ]
    }
   ],
   "source": [
    "import numpy as np\n",
    "\n",
    "def qr_factorization(A):\n",
    "    A = np.array(A, dtype=float)\n",
    "    n, m = A.shape\n",
    "    Q = np.zeros((n, m))\n",
    "    R = np.zeros((m, m))\n",
    "\n",
    "    for j in range(m):\n",
    "        # Empezamos con la columna j de A\n",
    "        v = A[:, j]\n",
    "        for i in range(j):\n",
    "            R[i, j] = np.dot(Q[:, i], A[:, j])\n",
    "            v = v - R[i, j] * Q[:, i]\n",
    "        R[j, j] = np.linalg.norm(v) # Longitud del nuevo vector ortogonal (norma)\n",
    "        Q[:, j] = v / R[j, j] # Normaliza el vector para formar la columna j de Q\n",
    "\n",
    "    return Q, R\n",
    "\n",
    "# Ejemplo de uso\n",
    "A = np.array([\n",
    "    [2, -1, 3, 0, 1, -2, 4, -3, 5, 6],\n",
    "    [-3, 5, -2, 1, 4, -6, 7, -8, 9, 10],\n",
    "    [1, -2, 4, -3, 5, -7, 8, -9, 10, 11],\n",
    "    [4, -3, 1, 2, -5, 6, -7, 8, -9, 10],\n",
    "    [-5, 7, -4, 6, 3, -1, 2, -8, 9, -10],\n",
    "    [6, -4, 5, -7, 8, 1, -3, 2, -9, 10],\n",
    "    [-7, 9, -6, 8, -10, 11, 3, -5, 4, -12],\n",
    "    [8, -6, 7, -9, 10, -12, 13, 5, -4, 3],\n",
    "    [-9, 11, -8, 10, -12, 14, -16, 17, 6, -5],\n",
    "    [10, -8, 9, -11, 12, -14, 15, -17, 18, 7]\n",
    "], dtype=float)\n",
    "\n",
    "Q, R = qr_factorization(A)\n",
    "\n",
    "print(\"Matriz Q:\")\n",
    "print(Q)\n",
    "print(\"\\nMatriz R:\")\n",
    "print(R)"
   ]
  },
  {
   "cell_type": "markdown",
   "id": "f1afed6c-b5a6-4c99-beda-8fd3feb40711",
   "metadata": {
    "kernel": "Python 3 (ipykernel)"
   },
   "source": [
    "**Pregunta 4**"
   ]
  },
  {
   "cell_type": "code",
   "execution_count": 12,
   "id": "41f33169-4cf0-49da-84f8-ec773ec071f2",
   "metadata": {
    "kernel": "Python 3 (ipykernel)",
    "scrolled": true
   },
   "outputs": [
    {
     "name": "stdout",
     "output_type": "stream",
     "text": [
      "Error final: 80.89048890111987\n"
     ]
    }
   ],
   "source": [
    "import numpy as np\n",
    "\n",
    "def forward_substitution(LD, b):\n",
    "    n = LD.shape[0]\n",
    "    y = np.zeros_like(b)\n",
    "    for i in range(n): #Formula iterativa de sustitucion hacia delante\n",
    "        suma = np.dot(LD[i, :i], y[:i])\n",
    "        y[i] = (-b[i] - suma) / LD[i, i]\n",
    "    return y\n",
    "\n",
    "def gauss_seidel(A, b, x0, tol=1e-10, iterMax=2000):\n",
    "    A = np.array(A, dtype=float)\n",
    "    b = np.array(b, dtype=float)\n",
    "    x = x0.copy()\n",
    "    n = A.shape[0]\n",
    "\n",
    "    # Descomponer A en (L + D) y U\n",
    "    LD = np.tril(A)        # L + D: parte inferior incluyendo la diagonal\n",
    "    U = A - LD             # U: parte superior estricta\n",
    "\n",
    "    for k in range(iterMax):\n",
    "        # Calcular el nuevo lado derecho: -Ux + b\n",
    "        rhs = -np.dot(U, x) + b\n",
    "\n",
    "        # Resolver (L + D)x = rhs usando sustitución hacia adelante\n",
    "        x_new = forward_substitution(LD, rhs)\n",
    "\n",
    "        # Verificar el error con la norma\n",
    "        error = np.linalg.norm(np.dot(A, x_new) - b)\n",
    "        if error < tol:\n",
    "            return x_new, error, k + 1\n",
    "\n",
    "        x = x_new\n",
    "\n",
    "    return x, error, iterMax\n",
    "\n",
    "# Construir el sistema A x = b según el enunciado\n",
    "n = 1000\n",
    "A = np.ones((n, n))\n",
    "np.fill_diagonal(A, 1001)  # Diagonal principal = 1001, resto = 1\n",
    "b = np.ones(n)             # Vector b = [1, 1, ..., 1]\n",
    "x0 = np.zeros(n)           # Vector inicial x0 = [0, 0, ..., 0]\n",
    "\n",
    "# Ejecutar el método\n",
    "x_resultado, error_final, iteraciones = gauss_seidel(A, b, x0, tol=1e-6, iterMax=2000)\n",
    "\n",
    "# Mostrar el error final en consola\n",
    "print(\"Error final:\", error_final)"
   ]
  },
  {
   "cell_type": "markdown",
   "id": "ebae1dfb-d7d3-459c-9a4b-f1bdf62a8799",
   "metadata": {
    "kernel": "Python 3 (ipykernel)"
   },
   "source": [
    "**Pregunta 5:**"
   ]
  },
  {
   "cell_type": "code",
   "execution_count": 7,
   "id": "a5fb5505-1c20-4ea3-b7b1-b11f761257b6",
   "metadata": {
    "kernel": "Octave"
   },
   "outputs": [
    {
     "name": "stdout",
     "output_type": "stream",
     "text": [
      "Aproximaciones de los valores propios:\n",
      "  -8.1909e+00\n",
      "   1.2819e+02\n",
      "   8.4814e-16\n",
      "   2.9917e-15\n",
      "   2.9685e-16\n",
      "   5.5432e-16\n",
      "   1.7934e-15\n",
      "  -2.4071e-15\n",
      "   3.1426e-15\n",
      "  -1.6203e-16\n",
      "  -1.0178e-16\n",
      "   5.7315e-15\n",
      "  -5.4471e-15\n",
      "  -5.0096e-15\n",
      "   4.0714e-15\n",
      "Error final:\n",
      "1.5681e-15\n"
     ]
    }
   ],
   "source": [
    "% Función que calcula el ángulo theta utilizado en la rotación de Jacobi\n",
    "function theta = angulo(A, i, j)\n",
    "  % Si la diferencia entre A(i,i) y A(j,j) es significativa\n",
    "  if abs(A(i,i) - A(j,j)) > 1e-16\n",
    "    % Se calcula theta según la fórmula del método de Jacobi\n",
    "    theta = 0.5 * atan( (2 * A(i,j)) / (A(i,i) - A(j,j)) );\n",
    "  else\n",
    "    % Si la diferencia es muy pequeña, se considera theta = 0\n",
    "    theta = 0;\n",
    "  end\n",
    "end\n",
    "\n",
    "% Función que construye la matriz de rotación G del método de Jacobi\n",
    "function G = matriz_rotacion(i, j, m, theta)\n",
    "  G = eye(m);  % Se inicializa como matriz identidad de tamaño m x m\n",
    "\n",
    "  % Se ajustan los valores en la submatriz de rotación\n",
    "  G(i,i) = cos(theta);\n",
    "  G(j,j) = cos(theta);\n",
    "\n",
    "  if i ~= j\n",
    "    G(i,j) = -sin(theta);  % Posición (i,j)\n",
    "    G(j,i) = sin(theta);   % Posición (j,i)\n",
    "  end\n",
    "end\n",
    "\n",
    "% Función principal del método de Jacobi para encontrar valores propios\n",
    "function [xk, ek] = jacobi_valores_propios(A, iterMax, tol)\n",
    "  m = size(A, 1);     % Tamaño de la matriz\n",
    "  Ak = A;             % Inicialización de A_k como la matriz original\n",
    "  x0 = diag(Ak);      % x0 es el vector con los elementos diagonales (valores propios iniciales)\n",
    "\n",
    "  for k = 1:iterMax   % Bucle principal: iterMax iteraciones como máximo\n",
    "    Bk = Ak;          % Copia de Ak para aplicar rotaciones\n",
    "\n",
    "    % Doble bucle para recorrer pares de índices (i, j)\n",
    "    for i = 1:m\n",
    "      for j = 1:m\n",
    "        if i ~= j\n",
    "          % Se calcula el ángulo theta para este par (i,j)\n",
    "          theta = angulo(Bk, i, j);\n",
    "\n",
    "          % Se construye la matriz de rotación G\n",
    "          G = matriz_rotacion(i, j, m, theta);\n",
    "\n",
    "          % Se aplica la transformación de Jacobi: Bk = Gᵀ * Bk * G\n",
    "          Bk = G' * Bk * G;\n",
    "        end\n",
    "      end\n",
    "    end\n",
    "\n",
    "    Ak = Bk;            % Se actualiza A_k para la próxima iteración\n",
    "    xk = diag(Ak);      % Se extraen los valores propios aproximados\n",
    "    ek = norm(xk - x0); % Cálculo del error como norma 2 entre iteraciones\n",
    "\n",
    "    % Criterio de parada: si el error es menor que la tolerancia\n",
    "    if ek < tol\n",
    "      break;\n",
    "    end\n",
    "\n",
    "    x0 = xk;  % Actualiza el vector de comparación para la próxima iteración\n",
    "  end\n",
    "end\n",
    "\n",
    "% ========== SCRIPT DE PRUEBA ==========\n",
    "\n",
    "% Se genera la matriz A de tamaño 15x15 con la fórmula A(i,j) = 0.5 * (i + j)\n",
    "n = 15;\n",
    "A = zeros(n);  % Inicialización\n",
    "for i = 1:n\n",
    "  for j = 1:n\n",
    "    A(i,j) = 0.5 * (i + j);\n",
    "  end\n",
    "end\n",
    "\n",
    "% Configuración del número máximo de iteraciones y tolerancia\n",
    "iterMax = 100;\n",
    "tol = 1e-6;\n",
    "\n",
    "% Se llama a la función de Jacobi para obtener los valores propios\n",
    "[xk, ek] = jacobi_valores_propios(A, iterMax, tol);\n",
    "\n",
    "% Se imprimen los resultados en la consola\n",
    "disp('Aproximaciones de los valores propios:');\n",
    "disp(xk);  % Muestra los valores propios aproximados\n",
    "\n",
    "disp('Error final:');\n",
    "disp(ek);  % Muestra el error final al terminar las iteraciones\n"
   ]
  },
  {
   "cell_type": "code",
   "execution_count": 10,
   "id": "b67953d6-13b1-40e5-8c87-ec436c5cc0c5",
   "metadata": {
    "kernel": "Octave",
    "scrolled": true
   },
   "outputs": [],
   "source": [
    "% Función que calcula el ángulo theta \n",
    "function theta = angulo(A, i, j)\n",
    "  % Si la diferencia entre A(i,i) y A(j,j) es significativa\n",
    "  if abs(A(i,i) - A(j,j)) > 1e-16\n",
    "    % Se calcula theta según la fórmula del método de Jacobi\n",
    "    theta = 0.5 * atan( (2 * A(i,j)) / (A(i,i) - A(j,j)) );\n",
    "  else\n",
    "    % Si la diferencia es muy pequeña, se considera theta = 0\n",
    "    theta = 0;\n",
    "  end\n",
    "end\n",
    "\n",
    "% Función que construye la matriz de rotación G del método de Jacobi\n",
    "function G = matriz_rotacion(i, j, m, theta)\n",
    "  G = eye(m);  % Se inicializa como matriz identidad de tamaño m x m\n",
    "\n",
    "  % Se ajustan los valores en la submatriz de rotación\n",
    "  G(i,i) = cos(theta);\n",
    "  G(j,j) = cos(theta);\n",
    "\n",
    "  if i ~= j\n",
    "    G(i,j) = -sin(theta);  % Posición (i,j)\n",
    "    G(j,i) = sin(theta);   % Posición (j,i)\n",
    "  end\n",
    "end\n",
    "\n",
    "% Función principal del método de Jacobi para encontrar valores propios\n",
    "function [xk, ek] = jacobi_valores_propios(A, iterMax, tol)\n",
    "  m = size(A, 1);     % Tamaño de la matriz\n",
    "  Ak = A;             % Inicialización de A_k como la matriz original\n",
    "  x0 = diag(Ak);      % x0 es el vector con los elementos diagonales (valores propios iniciales)\n",
    "\n",
    "  for k = 1:iterMax   % Bucle principal: iterMax iteraciones como máximo\n",
    "    Bk = Ak;          % Copia de Ak para aplicar rotaciones\n",
    "\n",
    "    % Doble bucle para recorrer pares de índices (i, j)\n",
    "    for i = 1:m\n",
    "      for j = 1:m\n",
    "        if i ~= j\n",
    "          % Se calcula el ángulo theta para este par (i,j)\n",
    "          theta = angulo(Bk, i, j);\n",
    "\n",
    "          % Se construye la matriz de rotación G\n",
    "          G = matriz_rotacion(i, j, m, theta);\n",
    "\n",
    "          % Se aplica la transformación de Jacobi: Bk = Gᵀ * Bk * G\n",
    "          Bk = G' * Bk * G;\n",
    "        end\n",
    "      end\n",
    "    end\n",
    "\n",
    "    Ak = Bk;            % Se actualiza A_k para la próxima iteración\n",
    "    xk = diag(Ak);      % Se extraen los valores propios aproximados\n",
    "    ek = norm(xk - x0); % Cálculo del error como norma 2 entre iteraciones\n",
    "\n",
    "    % Criterio de parada: si el error es menor que la tolerancia\n",
    "    if ek < tol\n",
    "      break;\n",
    "    end\n",
    "\n",
    "    x0 = xk;  % Actualiza el vector de comparación para la próxima iteración\n",
    "  end\n",
    "end\n"
   ]
  },
  {
   "cell_type": "code",
   "execution_count": 11,
   "id": "6b14e292-4506-47c3-b97d-8131e2ab66c3",
   "metadata": {
    "kernel": "Octave"
   },
   "outputs": [
    {
     "name": "stdout",
     "output_type": "stream",
     "text": [
      "Aproximaciones de los valores propios:\n",
      "  -8.1909e+00\n",
      "   1.2819e+02\n",
      "   8.4814e-16\n",
      "   2.9917e-15\n",
      "   2.9685e-16\n",
      "   5.5432e-16\n",
      "   1.7934e-15\n",
      "  -2.4071e-15\n",
      "   3.1426e-15\n",
      "  -1.6203e-16\n",
      "  -1.0178e-16\n",
      "   5.7315e-15\n",
      "  -5.4471e-15\n",
      "  -5.0096e-15\n",
      "   4.0714e-15\n",
      "Error final:\n",
      "1.5681e-15\n"
     ]
    }
   ],
   "source": [
    "% ========== SCRIPT DE PRUEBA ==========\n",
    "\n",
    "% Se genera la matriz A de tamaño 15x15 con la fórmula A(i,j) = 0.5 * (i + j)\n",
    "n = 15;\n",
    "A = zeros(n);  % Inicialización\n",
    "for i = 1:n\n",
    "  for j = 1:n\n",
    "    A(i,j) = 0.5 * (i + j);\n",
    "  end\n",
    "end\n",
    "\n",
    "% Configuración del número máximo de iteraciones y tolerancia\n",
    "iterMax = 1000;\n",
    "tol = 1e-6;\n",
    "\n",
    "% Se llama a la función de Jacobi para obtener los valores propios\n",
    "[xk, ek] = jacobi_valores_propios(A, iterMax, tol);\n",
    "\n",
    "% Se imprimen los resultados en la consola\n",
    "disp('Aproximaciones de los valores propios:');\n",
    "disp(xk);  % Muestra los valores propios aproximados\n",
    "\n",
    "disp('Error final:');\n",
    "disp(ek);  % Muestra el error final al terminar las iteraciones\n"
   ]
  },
  {
   "cell_type": "code",
   "execution_count": null,
   "id": "64440128-f9cf-409d-b643-900d3386ed73",
   "metadata": {
    "kernel": "Octave"
   },
   "outputs": [],
   "source": []
  }
 ],
 "metadata": {
  "kernelspec": {
   "display_name": "SoS",
   "language": "sos",
   "name": "sos"
  },
  "language_info": {
   "codemirror_mode": "sos",
   "file_extension": ".sos",
   "mimetype": "text/x-sos",
   "name": "sos",
   "nbconvert_exporter": "sos_notebook.converter.SoS_Exporter",
   "pygments_lexer": "sos"
  },
  "sos": {
   "kernels": [
    [
     "Octave",
     "octave",
     "octave",
     "",
     ""
    ],
    [
     "Python 3 (ipykernel)",
     "python3",
     "python3",
     "",
     {
      "name": "ipython",
      "version": 3
     }
    ]
   ],
   "version": ""
  }
 },
 "nbformat": 4,
 "nbformat_minor": 5
}
