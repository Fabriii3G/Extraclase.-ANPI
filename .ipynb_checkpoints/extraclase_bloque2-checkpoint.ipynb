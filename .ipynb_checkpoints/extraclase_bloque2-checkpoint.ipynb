{
 "cells": [
  {
   "cell_type": "markdown",
   "id": "797980a4-b012-403e-aaf9-afd55b7eb50e",
   "metadata": {
    "kernel": "SoS"
   },
   "source": [
    "## Ejercicios Extraclase - Avance 2\n",
    "\n",
    "- **Curso:** C1111: Análisis numérico para la ingeniería\n",
    "- **Estudiante 1:** Fabricio Isaac González Cerdas\n",
    "- **Estudiante 2:** Jian Yong Zheng Wu"
   ]
  },
  {
   "cell_type": "markdown",
   "id": "7f57c79f-2bc2-44f8-8f20-b62f113d4c2b",
   "metadata": {
    "kernel": "SoS"
   },
   "source": [
    "**Pregunta 1**"
   ]
  },
  {
   "cell_type": "code",
   "execution_count": 11,
   "id": "655c85e9-5138-4511-a726-e23aa92a23ce",
   "metadata": {
    "kernel": "Python 3 (ipykernel)",
    "scrolled": true
   },
   "outputs": [
    {
     "name": "stdout",
     "output_type": "stream",
     "text": [
      "tf para A1 = 1\n",
      "tf para A2 = 0\n"
     ]
    }
   ],
   "source": [
    "import numpy as np\n",
    "\n",
    "def tieneUnicaFactLU(A):\n",
    "    # Verificar si la matriz es cuadrada\n",
    "    filas, columnas = A.shape\n",
    "    if filas != columnas:\n",
    "        raise ValueError(\"La matriz debe ser cuadrada\")\n",
    "\n",
    "    # Verificar si el rango de A es igual a m \n",
    "    rango = np.linalg.matrix_rank(A)\n",
    "    tf = 1 if rango == filas else 0\n",
    "    return tf\n",
    "\n",
    "#Matriz con factorizacion LU unica\n",
    "A1 = np.array([\n",
    "    [2, 1, 0, 0, 0],\n",
    "    [3, 4, 1, 0, 0],\n",
    "    [1, 2, 3, 1, 0],\n",
    "    [5, 6, 7, 8, 1],\n",
    "    [9, 10, 11, 12, 13]\n",
    "], dtype=float)\n",
    "\n",
    "#Matriz sin factorizacion LU unica\n",
    "A2 = np.array([\n",
    "    [1, 2, 3, 4, 5],\n",
    "    [2, 4, 6, 8, 10],   \n",
    "    [3, 6, 9, 12, 15],  \n",
    "    [0, 0, 0, 0, 0],\n",
    "    [5, 10, 15, 20, 25]\n",
    "], dtype=float)\n",
    "\n",
    "print(\"tf para A1 =\", tieneUnicaFactLU(A1)) \n",
    "print(\"tf para A2 =\", tieneUnicaFactLU(A2))  "
   ]
  },
  {
   "cell_type": "markdown",
   "id": "9fcf8c01-ab74-40c3-a20e-fd513aa619d8",
   "metadata": {
    "kernel": "Python 3 (ipykernel)"
   },
   "source": [
    "**Pregunta 2**"
   ]
  },
  {
   "cell_type": "code",
   "execution_count": 21,
   "id": "b0dffefd-8e03-47ad-aeb8-3eaa7270bbab",
   "metadata": {
    "kernel": "Python 3 (ipykernel)"
   },
   "outputs": [
    {
     "name": "stdout",
     "output_type": "stream",
     "text": [
      "[-2. -2. -2. -2. -2. -2. -2. -2. -2. -2. -2. -2. -2. -2. -2. -2. -2. -2.\n",
      " -2. -2. -2. -2. -2. -2. -2. -2. -2. -2. -2. -2. -2. -2. -2. -2. -2. -2.\n",
      " -2. -2. -2. -2. -2. -2. -2. -2. -2. -2. -2. -2. -2. -2. -2. -2. -2. -2.\n",
      " -2. -2. -2. -2. -2. -2. -2. -2. -2. -2. -2. -2. -2. -2. -2. -2. -2. -2.\n",
      " -2. -2. -2. -2. -2. -2. -2. -2. -2. -2. -2. -2. -2. -2. -2. -2. -2. -2.\n",
      " -2. -2. -2. -2. -2. -2. -2. -2. -2. -2.]\n"
     ]
    }
   ],
   "source": [
    "import numpy as np\n",
    "\n",
    "def thomas(A, b):\n",
    "    A = np.array(A, dtype=float)\n",
    "    b = np.array(b, dtype=float)\n",
    "    n = len(b)\n",
    "\n",
    "    # Inicializar los vectores de la subdiagonal (a), diagonal principal (b_diag) y superdiagonal (c)\n",
    "    a = np.zeros(n)        # subdiagonal (valores debajo de la diagonal principal)\n",
    "    b_diag = np.zeros(n)   # diagonal principal\n",
    "    c = np.zeros(n)        # superdiagonal (valores encima de la diagonal principal)\n",
    "\n",
    "    # Extraer los valores de A en los tres vectores a, b_diag y c\n",
    "    for i in range(n):\n",
    "        b_diag[i] = A[i, i]             # Elemento diagonal\n",
    "        if i > 0:\n",
    "            a[i] = A[i, i - 1]          # Subdiagonal (debajo de la diagonal)\n",
    "        if i < n - 1:\n",
    "            c[i] = A[i, i + 1]          # Superdiagonal (encima de la diagonal)\n",
    "\n",
    "    # Eliminación hacia adelante\n",
    "    for i in range(1, n):\n",
    "        m = a[i] / b_diag[i - 1]        # Factor multiplicador\n",
    "        b_diag[i] = b_diag[i] - m * c[i - 1]  # Actualizar diagonal\n",
    "        b[i] = b[i] - m * b[i - 1]      # Actualizar vector del lado derecho\n",
    "\n",
    "    # Sustitución hacia atrás\n",
    "    x = np.zeros(n)\n",
    "    x[-1] = b[-1] / b_diag[-1]          # Última ecuación\n",
    "\n",
    "    for i in range(n - 2, -1, -1):      \n",
    "        suma = 0\n",
    "        suma += c[i] * x[i + 1]         \n",
    "        x[i] = (b[i] - suma) / b_diag[i]  # Calcular x[i]\n",
    "\n",
    "    return x\n",
    "\n",
    "#Construir la matriz\n",
    "n = 100\n",
    "A = np.zeros((n, n))\n",
    "\n",
    "# Llenar matriz tridiagonal\n",
    "for i in range(n):\n",
    "    A[i, i] = 5\n",
    "    if i > 0:\n",
    "        A[i, i - 1] = 1\n",
    "    if i < n - 1:\n",
    "        A[i, i + 1] = 1\n",
    "\n",
    "# Construir vector d\n",
    "d = np.full(n, -14.0)\n",
    "d[0] = -12.0\n",
    "d[-1] = -12.0\n",
    "\n",
    "# Resolver sistema\n",
    "x = thomas(A, d)\n",
    "\n",
    "print(x)"
   ]
  }
 ],
 "metadata": {
  "kernelspec": {
   "display_name": "SoS",
   "language": "sos",
   "name": "sos"
  },
  "language_info": {
   "codemirror_mode": "sos",
   "file_extension": ".sos",
   "mimetype": "text/x-sos",
   "name": "sos",
   "nbconvert_exporter": "sos_notebook.converter.SoS_Exporter",
   "pygments_lexer": "sos"
  },
  "sos": {
   "kernels": [
    [
     "Python 3 (ipykernel)",
     "python3",
     "python3",
     "",
     {
      "name": "ipython",
      "version": 3
     }
    ]
   ],
   "version": ""
  }
 },
 "nbformat": 4,
 "nbformat_minor": 5
}
